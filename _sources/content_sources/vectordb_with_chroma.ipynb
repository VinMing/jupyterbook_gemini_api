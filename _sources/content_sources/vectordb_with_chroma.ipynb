{
 "cells": [
  {
   "cell_type": "markdown",
   "metadata": {},
   "source": [
    "# 使用 ChromaDB 记录问答"
   ]
  },
  {
   "cell_type": "markdown",
   "metadata": {},
   "source": [
    "## 概述\n",
    "本教程演示如何使用 Gemini API 创建矢量数据库并从数据库中检索问题的答案。此外，您将使用 ChromaDB，这是一个用于创建嵌入数据库的开源 Python 工具。 ChromaDB 允许您：\n",
    "- 存储嵌入及其元数据\n",
    "- 嵌入文档和查询\n",
    "- 搜索嵌入数据库\n",
    "\n",
    "在本教程中，您将使用嵌入从使用 ChromaDB 创建的向量数据库中检索答案。\n",
    "\n",
    "## 前提条件\n",
    "您可以在 Google Colab 中运行此快速入门。 \n",
    "\n",
    "要在您自己的开发环境中完成本快速入门，请确保您的环境满足以下要求： \n",
    "- Python 3.9+ \n",
    "- 安装 jupyter 以运行笔记本\n",
    "\n",
    "## 安装\n",
    "首先，下载并安装 Gemini API Python 库。"
   ]
  },
  {
   "cell_type": "code",
   "execution_count": 21,
   "metadata": {},
   "outputs": [
    {
     "name": "stdout",
     "output_type": "stream",
     "text": [
      "E1220 16:11:32.073512301  374504 backup_poller.cc:127]                 Run client channel backup poller: UNKNOWN:pollset_work {created_time:\"2023-12-20T16:11:32.073469114+08:00\", children:[UNKNOWN:Bad file descriptor {created_time:\"2023-12-20T16:11:32.073447673+08:00\", errno:9, os_error:\"Bad file descriptor\", syscall:\"epoll_wait\"}]}\n"
     ]
    }
   ],
   "source": [
    "#!pip install -q google.generativeai\n"
   ]
  },
  {
   "cell_type": "code",
   "execution_count": 22,
   "metadata": {},
   "outputs": [],
   "source": [
    "#!pip install -q chromadb\n"
   ]
  },
  {
   "cell_type": "markdown",
   "metadata": {},
   "source": [
    "然后导入您将在本教程中使用的模块。"
   ]
  },
  {
   "cell_type": "code",
   "execution_count": 23,
   "metadata": {},
   "outputs": [],
   "source": [
    "import textwrap\n",
    "import chromadb\n",
    "import numpy as np\n",
    "import pandas as pd\n",
    "\n",
    "import google.generativeai as genai\n",
    "import google.ai.generativelanguage as glm\n",
    "\n",
    "# Used to securely store your API key\n",
    "# from google.colab import userdata\n",
    "\n",
    "from IPython.display import Markdown\n",
    "from chromadb import Documents, EmbeddingFunction, Embeddings\n"
   ]
  },
  {
   "cell_type": "markdown",
   "metadata": {},
   "source": [
    "### 获取 API 密钥\n",
    "在使用 Gemini API 之前，您必须先获取 API 密钥。如果您还没有密钥，请在 Google AI Studio 中一键创建密钥。\n",
    "\n",
    "在 Colab 中，将密钥添加到左侧面板“🔑”下的秘密管理器中。将其命名为 API_KEY。 获得 API 密钥后，将其传递给 SDK。您可以通过两种方式执行此操作：\n",
    "- 将密钥放入 GOOGLE_API_KEY 环境变量中（SDK 将自动从那里获取它）。\n",
    "- 将密钥传递给 genai.configure(api_key=...)"
   ]
  },
  {
   "cell_type": "code",
   "execution_count": 24,
   "metadata": {},
   "outputs": [],
   "source": [
    "# Or use `os.getenv('API_KEY')` to fetch an environment variable.\n",
    "# API_KEY=userdata.get('API_KEY')\n",
    "GOOGLE_API_KEY = \"YOUR-API-KEY\"\n",
    "genai.configure(api_key=GOOGLE_API_KEY)\n"
   ]
  },
  {
   "cell_type": "markdown",
   "metadata": {},
   "source": [
    "```{tip}\n",
    "要点：接下来，您将选择一个模型。任何嵌入模型都适用于本教程，但对于实际应用程序，选择特定模型并坚持使用非常重要。不同型号的输出互不兼容。\n",
    "```\n",
    "```{warning}\n",
    "注意：目前，Gemini API [仅在某些区域可用](available_regions.md)。\n",
    "```"
   ]
  },
  {
   "cell_type": "code",
   "execution_count": 25,
   "metadata": {},
   "outputs": [
    {
     "name": "stdout",
     "output_type": "stream",
     "text": [
      "models/embedding-001\n"
     ]
    }
   ],
   "source": [
    "for m in genai.list_models():\n",
    "  if 'embedContent' in m.supported_generation_methods:\n",
    "    print(m.name)\n"
   ]
  },
  {
   "cell_type": "markdown",
   "metadata": {},
   "source": [
    "# 数据\n",
    "以下是您将用于创建嵌入数据库的一小部分文档："
   ]
  },
  {
   "cell_type": "code",
   "execution_count": 26,
   "metadata": {},
   "outputs": [],
   "source": [
    "DOCUMENT1 = \"Operating the Climate Control System  Your Googlecar has a climate control system that allows you to adjust the temperature and airflow in the car. To operate the climate control system, use the buttons and knobs located on the center console.  Temperature: The temperature knob controls the temperature inside the car. Turn the knob clockwise to increase the temperature or counterclockwise to decrease the temperature. Airflow: The airflow knob controls the amount of airflow inside the car. Turn the knob clockwise to increase the airflow or counterclockwise to decrease the airflow. Fan speed: The fan speed knob controls the speed of the fan. Turn the knob clockwise to increase the fan speed or counterclockwise to decrease the fan speed. Mode: The mode button allows you to select the desired mode. The available modes are: Auto: The car will automatically adjust the temperature and airflow to maintain a comfortable level. Cool: The car will blow cool air into the car. Heat: The car will blow warm air into the car. Defrost: The car will blow warm air onto the windshield to defrost it.\"\n",
    "DOCUMENT2 = \"Your Googlecar has a large touchscreen display that provides access to a variety of features, including navigation, entertainment, and climate control. To use the touchscreen display, simply touch the desired icon.  For example, you can touch the \\\"Navigation\\\" icon to get directions to your destination or touch the \\\"Music\\\" icon to play your favorite songs.\"\n",
    "DOCUMENT3 = \"Shifting Gears Your Googlecar has an automatic transmission. To shift gears, simply move the shift lever to the desired position.  Park: This position is used when you are parked. The wheels are locked and the car cannot move. Reverse: This position is used to back up. Neutral: This position is used when you are stopped at a light or in traffic. The car is not in gear and will not move unless you press the gas pedal. Drive: This position is used to drive forward. Low: This position is used for driving in snow or other slippery conditions.\"\n",
    "\n",
    "documents = [DOCUMENT1, DOCUMENT2, DOCUMENT3]\n"
   ]
  },
  {
   "cell_type": "markdown",
   "metadata": {},
   "source": [
    "## 使用 ChromaDB 创建嵌入数据库\n",
    "您将创建一个[自定义函数](https://docs.trychroma.com/embeddings#custom-embedding-functions)来使用 Gemini API 执行嵌入。通过将一组文档输入到此自定义函数中，您将收到向量或文档的嵌入。\n",
    "### 使用模型 embedding-001 对嵌入进行 API 更改\n",
    "对于新的嵌入模型 embedding-001，有一个新的任务类型参数和可选标题（仅在 task_type=RETRIEVAL_DOCUMENT 时有效）。  \n",
    "这些新参数仅适用于最新的嵌入模型。任务类型为：  \n",
    "| 任务类型 | 描述 |\n",
    "|--- | --- |\n",
    "| RETRIEVAL_QUERY | 指定给定文本是搜索/检索设置中的查询。|\n",
    "| RETRIEVAL_DOCUMENT | 指定给定文本是搜索/检索设置中的文档。|\n",
    "| SEMANTIC_SIMILARITY | 指定给定文本将用于语义文本相似性 (STS)。|\n",
    "| CLASSIFICATION | 指定嵌入将用于分类。|\n",
    "| CLUSTERING | 指定嵌入将用于聚类。|\n"
   ]
  },
  {
   "cell_type": "markdown",
   "metadata": {},
   "source": [
    "```{tip}\n",
    "注意：为`RETRIEVAL_DOCUMENT`指定标题可以为检索提供更好质量的嵌入，但此处省略，因为 ChromaDB 的`EmbeddingFunction`仅支持内容字符串的输入。\n",
    "```"
   ]
  },
  {
   "cell_type": "code",
   "execution_count": 45,
   "metadata": {},
   "outputs": [],
   "source": [
    "class GeminiEmbeddingFunction(EmbeddingFunction):\n",
    "  def __call__(self, input: Documents) -> Embeddings:\n",
    "    model = 'models/embedding-001'\n",
    "    title = \"Custom query\"\n",
    "    return genai.embed_content(model=model,\n",
    "                                content=input,\n",
    "                                task_type=\"retrieval_document\",\n",
    "                                title=title)[\"embedding\"]"
   ]
  },
  {
   "cell_type": "markdown",
   "metadata": {},
   "source": [
    "现在您将创建矢量数据库。在`create_chroma_db`函数中，您将实例化一个[Chroma 客户端](https://docs.trychroma.com/getting-started)。从那里，您将创建一个集合，在其中存储嵌入、文档和任何元数据。请注意，上面的嵌入函数作为参数传递给 create_collection。\n",
    "\n",
    "接下来，使用 add 方法将文档添加到集合中。"
   ]
  },
  {
   "cell_type": "code",
   "execution_count": 46,
   "metadata": {},
   "outputs": [],
   "source": [
    "def create_chroma_db(documents, name):\n",
    "  chroma_client = chromadb.Client()\n",
    "  db = chroma_client.create_collection(name=name, embedding_function=GeminiEmbeddingFunction())\n",
    "\n",
    "  for i, d in enumerate(documents):\n",
    "    db.add(\n",
    "      documents=[d],\n",
    "      ids=[str(i)]\n",
    "    )\n",
    "  return db\n"
   ]
  },
  {
   "cell_type": "code",
   "execution_count": 49,
   "metadata": {},
   "outputs": [],
   "source": [
    "### \n",
    "# Set up the DB\n",
    "db = create_chroma_db(documents, \"googlecarsdatabase\")\n"
   ]
  },
  {
   "cell_type": "markdown",
   "metadata": {},
   "source": [
    "通过查看数据库确认数据已插入："
   ]
  },
  {
   "cell_type": "code",
   "execution_count": 50,
   "metadata": {},
   "outputs": [
    {
     "data": {
      "text/html": [
       "<div>\n",
       "<style scoped>\n",
       "    .dataframe tbody tr th:only-of-type {\n",
       "        vertical-align: middle;\n",
       "    }\n",
       "\n",
       "    .dataframe tbody tr th {\n",
       "        vertical-align: top;\n",
       "    }\n",
       "\n",
       "    .dataframe thead th {\n",
       "        text-align: right;\n",
       "    }\n",
       "</style>\n",
       "<table border=\"1\" class=\"dataframe\">\n",
       "  <thead>\n",
       "    <tr style=\"text-align: right;\">\n",
       "      <th></th>\n",
       "      <th>ids</th>\n",
       "      <th>embeddings</th>\n",
       "      <th>metadatas</th>\n",
       "      <th>documents</th>\n",
       "      <th>uris</th>\n",
       "      <th>data</th>\n",
       "    </tr>\n",
       "  </thead>\n",
       "  <tbody>\n",
       "    <tr>\n",
       "      <th>0</th>\n",
       "      <td>0</td>\n",
       "      <td>[-0.020994942635297775, -0.03876612335443497, ...</td>\n",
       "      <td>None</td>\n",
       "      <td>Operating the Climate Control System  Your Goo...</td>\n",
       "      <td>None</td>\n",
       "      <td>None</td>\n",
       "    </tr>\n",
       "    <tr>\n",
       "      <th>1</th>\n",
       "      <td>1</td>\n",
       "      <td>[0.017410801723599434, -0.04757162556052208, -...</td>\n",
       "      <td>None</td>\n",
       "      <td>Your Googlecar has a large touchscreen display...</td>\n",
       "      <td>None</td>\n",
       "      <td>None</td>\n",
       "    </tr>\n",
       "    <tr>\n",
       "      <th>2</th>\n",
       "      <td>2</td>\n",
       "      <td>[-0.03194405511021614, -0.023281503468751907, ...</td>\n",
       "      <td>None</td>\n",
       "      <td>Shifting Gears Your Googlecar has an automatic...</td>\n",
       "      <td>None</td>\n",
       "      <td>None</td>\n",
       "    </tr>\n",
       "  </tbody>\n",
       "</table>\n",
       "</div>"
      ],
      "text/plain": [
       "  ids                                         embeddings metadatas  \\\n",
       "0   0  [-0.020994942635297775, -0.03876612335443497, ...      None   \n",
       "1   1  [0.017410801723599434, -0.04757162556052208, -...      None   \n",
       "2   2  [-0.03194405511021614, -0.023281503468751907, ...      None   \n",
       "\n",
       "                                           documents  uris  data  \n",
       "0  Operating the Climate Control System  Your Goo...  None  None  \n",
       "1  Your Googlecar has a large touchscreen display...  None  None  \n",
       "2  Shifting Gears Your Googlecar has an automatic...  None  None  "
      ]
     },
     "execution_count": 50,
     "metadata": {},
     "output_type": "execute_result"
    }
   ],
   "source": [
    "pd.DataFrame(db.peek(3))"
   ]
  },
  {
   "cell_type": "markdown",
   "metadata": {},
   "source": [
    "## 获取相关文件\n",
    "`db`是 Chroma 集合对象。您可以对其调用`query`来执行最近邻搜索以查找相似的嵌入或文档。"
   ]
  },
  {
   "cell_type": "code",
   "execution_count": 51,
   "metadata": {},
   "outputs": [],
   "source": [
    "def get_relevant_passage(query, db):\n",
    "  passage = db.query(query_texts=[query], n_results=1)['documents'][0][0]\n",
    "  return passage\n"
   ]
  },
  {
   "cell_type": "code",
   "execution_count": 52,
   "metadata": {},
   "outputs": [
    {
     "data": {
      "text/markdown": [
       "Your Googlecar has a large touchscreen display that provides access to a variety of features, including navigation, entertainment, and climate control. To use the touchscreen display, simply touch the desired icon.  For example, you can touch the \"Navigation\" icon to get directions to your destination or touch the \"Music\" icon to play your favorite songs."
      ],
      "text/plain": [
       "<IPython.core.display.Markdown object>"
      ]
     },
     "execution_count": 52,
     "metadata": {},
     "output_type": "execute_result"
    }
   ],
   "source": [
    "# Perform embedding search\n",
    "passage = get_relevant_passage(\"touch screen features\", db)\n",
    "Markdown(passage)"
   ]
  },
  {
   "cell_type": "markdown",
   "metadata": {},
   "source": [
    "现在您已经在文档集中找到了相关段落，您可以使用它进行提示以传递到 Gemini API。"
   ]
  },
  {
   "cell_type": "code",
   "execution_count": 53,
   "metadata": {},
   "outputs": [],
   "source": [
    "def make_prompt(query, relevant_passage):\n",
    "  escaped = relevant_passage.replace(\"'\", \"\").replace('\"', \"\").replace(\"\\n\", \" \")\n",
    "  prompt = (\"\"\"You are a helpful and informative bot that answers questions using text from the reference passage included below. \\\n",
    "  Be sure to respond in a complete sentence, being comprehensive, including all relevant background information. \\\n",
    "  However, you are talking to a non-technical audience, so be sure to break down complicated concepts and \\\n",
    "  strike a friendly and converstional tone. \\\n",
    "  If the passage is irrelevant to the answer, you may ignore it.\n",
    "  QUESTION: '{query}'\n",
    "  PASSAGE: '{relevant_passage}'\n",
    "\n",
    "    ANSWER:\n",
    "  \"\"\").format(query=query, relevant_passage=escaped)\n",
    "\n",
    "  return prompt\n"
   ]
  },
  {
   "cell_type": "markdown",
   "metadata": {},
   "source": [
    "将查询传递给提示："
   ]
  },
  {
   "cell_type": "code",
   "execution_count": 54,
   "metadata": {},
   "outputs": [
    {
     "data": {
      "text/markdown": [
       "You are a helpful and informative bot that answers questions using text from the reference passage included below.   Be sure to respond in a complete sentence, being comprehensive, including all relevant background information.   However, you are talking to a non-technical audience, so be sure to break down complicated concepts and   strike a friendly and converstional tone.   If the passage is irrelevant to the answer, you may ignore it.\n",
       "  QUESTION: 'How do you use the touchscreen in the Google car?'\n",
       "  PASSAGE: 'Your Googlecar has a large touchscreen display that provides access to a variety of features, including navigation, entertainment, and climate control. To use the touchscreen display, simply touch the desired icon.  For example, you can touch the Navigation icon to get directions to your destination or touch the Music icon to play your favorite songs.'\n",
       "\n",
       "    ANSWER:\n",
       "  "
      ],
      "text/plain": [
       "<IPython.core.display.Markdown object>"
      ]
     },
     "execution_count": 54,
     "metadata": {},
     "output_type": "execute_result"
    }
   ],
   "source": [
    "query = \"How do you use the touchscreen in the Google car?\"\n",
    "prompt = make_prompt(query, passage)\n",
    "Markdown(prompt)\n"
   ]
  },
  {
   "cell_type": "markdown",
   "metadata": {},
   "source": [
    "现在使用`generate_content`方法从模型生成响应。"
   ]
  },
  {
   "cell_type": "code",
   "execution_count": 55,
   "metadata": {},
   "outputs": [
    {
     "data": {
      "text/markdown": [
       "In your Google car, you can interact with the large touchscreen display by simply touching the desired icon. For instance, to navigate to a specific destination, tap the Navigation icon, or to listen to your favorite tunes, tap the Music icon."
      ],
      "text/plain": [
       "<IPython.core.display.Markdown object>"
      ]
     },
     "execution_count": 55,
     "metadata": {},
     "output_type": "execute_result"
    }
   ],
   "source": [
    "model = genai.GenerativeModel('gemini-pro')\n",
    "answer = model.generate_content(prompt)\n",
    "Markdown(answer.text)\n"
   ]
  },
  {
   "cell_type": "markdown",
   "metadata": {},
   "source": [
    "## 下一步\n",
    "要了解有关如何使用嵌入的更多信息，请查看可用的[示例](https://ai.google.dev/examples?keywords=embed)。要了解如何使用 Gemini API 中的其他服务，请访问[Python 快速入门](python_quickstart.ipynb)。"
   ]
  },
  {
   "cell_type": "markdown",
   "metadata": {},
   "source": []
  }
 ],
 "metadata": {
  "kernelspec": {
   "display_name": "Python nb (gemini)",
   "language": "python",
   "name": "gemini"
  },
  "language_info": {
   "codemirror_mode": {
    "name": "ipython",
    "version": 3
   },
   "file_extension": ".py",
   "mimetype": "text/x-python",
   "name": "python",
   "nbconvert_exporter": "python",
   "pygments_lexer": "ipython3",
   "version": "3.10.13"
  }
 },
 "nbformat": 4,
 "nbformat_minor": 2
}
